{
 "cells": [
  {
   "cell_type": "code",
   "execution_count": 1,
   "id": "b2d17ce3",
   "metadata": {},
   "outputs": [],
   "source": [
    "import os\n",
    "import time\n",
    "import numpy as np\n",
    "import random\n",
    "import subprocess\n",
    "import logging\n",
    "# from your_yolo_module import run_yolo_world  # Replace with your actual YOLO-World function\n",
    "from IPython.display import Audio\n",
    "\n",
    "# Setup logging\n",
    "logging.basicConfig(level=logging.INFO, format='%(asctime)s - %(message)s')"
   ]
  },
  {
   "cell_type": "code",
   "execution_count": 2,
   "id": "2029c6bb",
   "metadata": {},
   "outputs": [],
   "source": [
    "# 1. call the main fucntion\n",
    "# 2. request_new_waveform(\"sample_name\") returns the spike encoded input as a 1d tensor\n",
    "# which is sent to predict(model, input)\n",
    "# 3. predict(model, input) calls the AIfES C code through a subprocess"
   ]
  },
  {
   "cell_type": "code",
   "execution_count": 3,
   "id": "4c678c27",
   "metadata": {},
   "outputs": [],
   "source": [
    "# This entire cell will be moved to a new file\n",
    "from snntorch import spikegen\n",
    "import torchaudio\n",
    "from torch.utils.data import DataLoader, Dataset\n",
    "import torch.nn.functional as F\n",
    "\n",
    "from pathlib import Path\n",
    "from sklearn.preprocessing import LabelEncoder\n",
    "from sklearn.model_selection import train_test_split\n",
    "\n",
    "# === Label Encoding ===\n",
    "all_labels =  [\"bed\", \"bird\", \"cat\", \"dog\", \"house\", \"marvin\", \"tree\", \"mask\", \"frame\", \"unknown\", \"silence\"]\n",
    "label_encoder = LabelEncoder()\n",
    "label_encoder.fit(all_labels) # encode labels as indices\n",
    "\n",
    "# # === DATASET ===\n",
    "class KeywordSpottingDataset(Dataset):\n",
    "    def __init__(self, samples, transform=None):\n",
    "        self.samples = samples\n",
    "        self.transform = transform\n",
    "\n",
    "    def __len__(self):\n",
    "        return len(self.samples)\n",
    "\n",
    "    def __getitem__(self, index):\n",
    "        path, label_idx = self.samples[index]\n",
    "        waveform, sample_rate = torchaudio.load(path)\n",
    "        label_name = path.parent.name  # Get the class name from the folder\n",
    "        if self.transform:\n",
    "            waveform = self.transform(waveform)\n",
    "        return waveform, sample_rate, label_name\n",
    "    \n",
    "def load_test_dataset_from_txt(txt_file):\n",
    "    test_samples = []\n",
    "    with open(txt_file, \"r\") as f:\n",
    "        for line in f:\n",
    "            # path_str, label_idx_str = line.strip().split(\",\")\n",
    "            parts = line.strip().split(\",\")\n",
    "            if len(parts) < 2:\n",
    "                print(f\"Skipping line: {line.strip()}\")\n",
    "                continue\n",
    "            path_str, label_idx_str = parts\n",
    "            test_samples.append((Path(path_str), int(label_idx_str)))\n",
    "    return test_samples\n",
    "\n",
    "def preprocess(raw_waveform):\n",
    "    mel_transform = torchaudio.transforms.MelSpectrogram(\n",
    "        sample_rate=16000,\n",
    "        n_fft=400,\n",
    "        hop_length=160,\n",
    "        n_mels=64\n",
    "    )\n",
    "    amplitude_to_db = torchaudio.transforms.AmplitudeToDB()\n",
    "    target_length = 16000\n",
    "\n",
    "    # Pad or trim waveform\n",
    "    if raw_waveform.size(1) < target_length:\n",
    "        pad_size = target_length - raw_waveform.size(1)\n",
    "        raw_waveform = F.pad(raw_waveform, (0, pad_size))\n",
    "    else:\n",
    "        raw_waveform = raw_waveform[:, :target_length]\n",
    "\n",
    "    # Mel spectrogram and normalization\n",
    "    mel_spec = mel_transform(raw_waveform).squeeze(0)\n",
    "    mel_spec = amplitude_to_db(mel_spec)\n",
    "    mel_spec = (mel_spec - mel_spec.mean()) / (mel_spec.std() + 1e-5)\n",
    "    mel_spec = mel_spec.unsqueeze(0)  # Shape: [1, 64, time]\n",
    "    encoded_input = spikegen.rate(mel_spec, num_steps=35)\n",
    "    \n",
    "    return encoded_input\n",
    "\n",
    "def request_new_waveform(sample_name, play_audio=False):\n",
    "    # picks a sample waveform from the KWS test set until microphone setup is done.\n",
    "    # the sample to be picked from the dataset can be specified by the sample_name as we afre emulating the microphone.\n",
    "    sample_name = sample_name.lower()\n",
    "    # Convert label name to index\n",
    "    if sample_name not in all_labels:\n",
    "        raise ValueError(f\"Label '{sample_name}' is not in the list of known labels.\")\n",
    "    label_idx = label_encoder.transform([sample_name])[0]\n",
    "\n",
    "    test_samples = load_test_dataset_from_txt(\"test_dataset_list.txt\")\n",
    "    # test_dataset = KeywordSpottingDataset(test_samples)\n",
    "    label_idx = label_encoder.transform([sample_name])[0]\n",
    "    matching_samples = [sample for sample in test_samples if sample[1] == label_idx]\n",
    "    \n",
    "    if not matching_samples:\n",
    "        raise RuntimeError(f\"No test samples found for class '{sample_name}'\")\n",
    "    \n",
    "    selected_path,_ = random.choice(matching_samples)\n",
    "    raw_waveform, sample_rate = torchaudio.load(selected_path)\n",
    "    \n",
    "    if play_audio:\n",
    "        display(Audio(raw_waveform.numpy().squeeze(), rate=sample_rate))\n",
    "\n",
    "    encoded_sample = preprocess(raw_waveform)\n",
    "        \n",
    "    return encoded_sample\n"
   ]
  },
  {
   "cell_type": "code",
   "execution_count": 4,
   "id": "c7692aad",
   "metadata": {},
   "outputs": [
    {
     "name": "stdout",
     "output_type": "stream",
     "text": [
      "Skipping line: ../../datasets/kws_dataset/mask/mask_ED\n",
      "Skipping line: ../../datasets/kws_dataset/mask/mask_ED\n"
     ]
    },
    {
     "data": {
      "text/html": [
       "\n",
       "                <audio  controls=\"controls\" >\n",
       "                    <source src=\"data:audio/wav;base64,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\" type=\"audio/wav\" />\n",
       "                    Your browser does not support the audio element.\n",
       "                </audio>\n",
       "              "
      ],
      "text/plain": [
       "<IPython.lib.display.Audio object>"
      ]
     },
     "metadata": {},
     "output_type": "display_data"
    },
    {
     "name": "stdout",
     "output_type": "stream",
     "text": [
      "torch.Size([35, 1, 64, 101])\n"
     ]
    }
   ],
   "source": [
    "# Testing the function\n",
    "sample = request_new_waveform(\"cat\", True)\n",
    "print(sample.shape)"
   ]
  },
  {
   "cell_type": "code",
   "execution_count": 5,
   "id": "f6fb900d",
   "metadata": {},
   "outputs": [],
   "source": [
    "def activate_led():\n",
    "    # Placeholder for activating an LED to indicate listening to user\n",
    "    print(\"LED activated: System is listening...\")"
   ]
  },
  {
   "cell_type": "code",
   "execution_count": 14,
   "id": "0d3b452f",
   "metadata": {},
   "outputs": [],
   "source": [
    "def predict(encoded_input, bin_filename=None):\n",
    "    if encoded_input is None:\n",
    "        print(\"Input waveform required!\")\n",
    "        return None\n",
    "    if bin_filename is None:\n",
    "        bin_filename = \"aifes_kws_input.bin\"\n",
    "    flattened_input = encoded_input.flatten().numpy().astype(np.float32)\n",
    "    flattened_input.tofile(bin_filename)\n",
    "    \n",
    "    print(\"Starting inference\")\n",
    "    flag = False\n",
    "    try:\n",
    "        result = subprocess.run([\"./main\", bin_filename], capture_output=True, text=True, check=True)\n",
    "        output = result.stdout\n",
    "        for line in output.splitlines():\n",
    "            if \"prediction class index\" in line:\n",
    "                flag = True\n",
    "                class_index = int(line.strip().split(\"index\")[1])\n",
    "                class_name = label_encoder.inverse_transform([class_index])\n",
    "                print(f\"predicted class index: {class_index}, class name: {class_name}\") \n",
    "                break\n",
    "        if not flag:\n",
    "            print(\"No prediction found.\") \n",
    "            return None\n",
    "        print(\"Inference complete\")        \n",
    "        return class_name[0]\n",
    "        \n",
    "    except subprocess.CalledProcessError as e:\n",
    "        print(f\"Inference failed: {e.stderr}\")\n",
    "        return None\n"
   ]
  },
  {
   "cell_type": "code",
   "execution_count": 15,
   "id": "d1f94d00",
   "metadata": {},
   "outputs": [
    {
     "name": "stdout",
     "output_type": "stream",
     "text": [
      "Skipping line: ../../datasets/kws_dataset/mask/mask_ED\n",
      "Skipping line: ../../datasets/kws_dataset/mask/mask_ED\n",
      "idx:  [6]\n",
      "Starting inference\n",
      "predicted class index: 6, class name: ['marvin']\n",
      "Inference complete\n",
      "marvin\n"
     ]
    }
   ],
   "source": [
    "# Testing the code\n",
    "sample_name = \"marvin\"\n",
    "sample = request_new_waveform(sample_name, False)\n",
    "sample_idx = label_encoder.transform([sample_name])\n",
    "print(\"idx: \", sample_idx)\n",
    "bin_filename = f\"input_waveform_{sample_name}{sample_idx[0]}.bin\"\n",
    "predicted_class = predict(sample)\n",
    "print(predicted_class)\n"
   ]
  },
  {
   "cell_type": "code",
   "execution_count": 16,
   "id": "42ea4c28",
   "metadata": {},
   "outputs": [],
   "source": [
    "def trigger_vision_model(action, object):\n",
    "    # calls YOLO-World script\n",
    "    pass"
   ]
  },
  {
   "cell_type": "code",
   "execution_count": 17,
   "id": "6fbbc7df",
   "metadata": {},
   "outputs": [],
   "source": [
    "#  This is the ideal case. No edge cases are dealt here\n",
    "# Just a vanilla integration model\n",
    "\n",
    "\n",
    "def main():\n",
    "    wakeword = \"Marvin\"\n",
    "    object_classes =[\"cat\", \"car\", \"dog\", \"bed\", \"bird\", \"house\", \"tree\"]\n",
    "    logging.info(\"System initialized. Listening for wake word...\")\n",
    "    wakeword_input = request_new_waveform(wakeword)\n",
    "    \n",
    "    predicted_keyword = predict(wakeword_input)\n",
    "    if predicted_keyword == wakeword :  # this looks reduntant now, but in real case request_new_waveform() will give a random word. so it must be validated\n",
    "        logging.info(\"Wake word 'Marvin' detected.\")        \n",
    "        action_word_input = request_new_waveform(\"action\") # hardcoded now, later the sample name must be removed as arg to retrieve a random waveform\n",
    "        predicted_keyword = predict(action_word_input)\n",
    "        \n",
    "        if predicted_keyword in [\"frame\", \"mask\"]:\n",
    "            action_word = predicted_keyword\n",
    "            object_input = request_new_waveform(\"object\")\n",
    "            predicted_keyword = predict(object_input)\n",
    "            if predicted_keyword in object_classes:\n",
    "                object_word = predicted_keyword\n",
    "                logging.info(f\"Command recognized: {action_word} {object_word}\")\n",
    "                logging.info(\"Activating Vision pipeline\")\n",
    "                trigger_vision_model(action_word, object_word)\n",
    "            else:\n",
    "                logging.warning(\"Unrecognized object. Please try again.\")\n",
    "        else:\n",
    "            logging.warning(\"Unrecognized action. Please try again.\")\n",
    "    else:\n",
    "        logging.info(\"No wake word detected.\")\n",
    "            "
   ]
  },
  {
   "cell_type": "code",
   "execution_count": 18,
   "id": "53cf1800",
   "metadata": {},
   "outputs": [
    {
     "name": "stderr",
     "output_type": "stream",
     "text": [
      "2025-07-04 11:54:07,850 - System initialized. Listening for wake word...\n"
     ]
    },
    {
     "name": "stdout",
     "output_type": "stream",
     "text": [
      "Skipping line: ../../datasets/kws_dataset/mask/mask_ED\n",
      "Skipping line: ../../datasets/kws_dataset/mask/mask_ED\n",
      "Starting inference\n"
     ]
    },
    {
     "name": "stderr",
     "output_type": "stream",
     "text": [
      "2025-07-04 11:54:09,330 - No wake word detected.\n"
     ]
    },
    {
     "name": "stdout",
     "output_type": "stream",
     "text": [
      "predicted class index: 6, class name: ['marvin']\n",
      "Inference complete\n"
     ]
    }
   ],
   "source": [
    "if __name__ == \"__main__\":\n",
    "    main()"
   ]
  },
  {
   "cell_type": "code",
   "execution_count": null,
   "id": "ed710777",
   "metadata": {},
   "outputs": [],
   "source": []
  }
 ],
 "metadata": {
  "kernelspec": {
   "display_name": "base",
   "language": "python",
   "name": "python3"
  },
  "language_info": {
   "codemirror_mode": {
    "name": "ipython",
    "version": 3
   },
   "file_extension": ".py",
   "mimetype": "text/x-python",
   "name": "python",
   "nbconvert_exporter": "python",
   "pygments_lexer": "ipython3",
   "version": "3.11.11"
  }
 },
 "nbformat": 4,
 "nbformat_minor": 5
}
